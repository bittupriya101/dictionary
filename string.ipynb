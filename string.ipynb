{
 "cells": [
  {
   "cell_type": "code",
   "execution_count": 2,
   "metadata": {},
   "outputs": [],
   "source": [
    "# strings\n",
    "a = 'this is a string' # single quotes\n",
    "b = \"this is another string\"  # double quotes \n",
    "c = ''' this is a string with two lines ''' # triple quotes \n",
    "d = b'this is a byte string' # byte string \n",
    "e = u'this is a \\nunicode string' # unicode string \n",
    "f = r'this is a \\nraw string' # raw string "
   ]
  },
  {
   "cell_type": "code",
   "execution_count": 3,
   "metadata": {},
   "outputs": [
    {
     "name": "stdout",
     "output_type": "stream",
     "text": [
      "this is a \n",
      "unicode string\n",
      "this is a \\nraw string\n"
     ]
    }
   ],
   "source": [
    "print(e)\n",
    "print(f)"
   ]
  },
  {
   "cell_type": "code",
   "execution_count": 6,
   "metadata": {},
   "outputs": [
    {
     "name": "stdout",
     "output_type": "stream",
     "text": [
      " C:\\Users\\Bittu priya\\Desktop\\Data Science\n"
     ]
    }
   ],
   "source": [
    "path =  r' C:\\Users\\Bittu priya\\Desktop\\Data Science'\n",
    "print(path)"
   ]
  },
  {
   "cell_type": "code",
   "execution_count": 7,
   "metadata": {},
   "outputs": [
    {
     "name": "stdout",
     "output_type": "stream",
     "text": [
      "20\n"
     ]
    }
   ],
   "source": [
    "x = 20\n",
    "x = str(x) # converted to string \n",
    "print(x)"
   ]
  },
  {
   "cell_type": "code",
   "execution_count": 8,
   "metadata": {},
   "outputs": [],
   "source": [
    "name = 'Bittupriya Maurya'"
   ]
  },
  {
   "cell_type": "code",
   "execution_count": 9,
   "metadata": {},
   "outputs": [
    {
     "data": {
      "text/plain": [
       "'Bittu'"
      ]
     },
     "execution_count": 9,
     "metadata": {},
     "output_type": "execute_result"
    }
   ],
   "source": [
    "name[:5] # first 5 characters"
   ]
  },
  {
   "cell_type": "code",
   "execution_count": 10,
   "metadata": {},
   "outputs": [
    {
     "data": {
      "text/plain": [
       "17"
      ]
     },
     "execution_count": 10,
     "metadata": {},
     "output_type": "execute_result"
    }
   ],
   "source": [
    "len(name) # length of string"
   ]
  },
  {
   "cell_type": "code",
   "execution_count": 12,
   "metadata": {},
   "outputs": [
    {
     "data": {
      "text/plain": [
       "'riya Maurya'"
      ]
     },
     "execution_count": 12,
     "metadata": {},
     "output_type": "execute_result"
    }
   ],
   "source": [
    "name[6:] # last 6 characters "
   ]
  },
  {
   "cell_type": "code",
   "execution_count": 13,
   "metadata": {},
   "outputs": [],
   "source": [
    "fname = name[:5]\n",
    "lname = name[-7:]"
   ]
  },
  {
   "cell_type": "code",
   "execution_count": 14,
   "metadata": {},
   "outputs": [
    {
     "data": {
      "text/plain": [
       "'Btury ara'"
      ]
     },
     "execution_count": 14,
     "metadata": {},
     "output_type": "execute_result"
    }
   ],
   "source": [
    "name[::2] # every second charcter "
   ]
  },
  {
   "cell_type": "code",
   "execution_count": 15,
   "metadata": {},
   "outputs": [
    {
     "data": {
      "text/plain": [
       "'ayruaM ayirputtiB'"
      ]
     },
     "execution_count": 15,
     "metadata": {},
     "output_type": "execute_result"
    }
   ],
   "source": [
    "name[::-1] # reverse the string "
   ]
  },
  {
   "cell_type": "code",
   "execution_count": 22,
   "metadata": {},
   "outputs": [
    {
     "name": "stdout",
     "output_type": "stream",
     "text": [
      "4545\n"
     ]
    }
   ],
   "source": [
    "x = input('Enter a number: ')\n",
    "if x.isnumeric():\n",
    "    x = int(x)\n",
    "    print(x)\n",
    "else: \n",
    "    print('Invalid input') "
   ]
  },
  {
   "cell_type": "code",
   "execution_count": 27,
   "metadata": {},
   "outputs": [
    {
     "name": "stdout",
     "output_type": "stream",
     "text": [
      "Hello priya\n"
     ]
    }
   ],
   "source": [
    "uname = input ('Enter your name: ')\n",
    "if uname.isalnum():\n",
    "    print('Hello', uname )\n",
    "else:\n",
    "    print('Invalid input')"
   ]
  },
  {
   "cell_type": "code",
   "execution_count": 23,
   "metadata": {},
   "outputs": [
    {
     "name": "stdout",
     "output_type": "stream",
     "text": [
      "must be some special characters\n"
     ]
    }
   ],
   "source": [
    "uname = input ('Enter your name: ')\n",
    "if not uname.isalnum():\n",
    "    print('must be some special characters')\n",
    "else:\n",
    "    print('not so special')\n",
    "    "
   ]
  },
  {
   "cell_type": "code",
   "execution_count": 38,
   "metadata": {},
   "outputs": [
    {
     "name": "stdout",
     "output_type": "stream",
     "text": [
      "Welcome Mr. Ram\n",
      "Welcome Mrs. Raju\n",
      "Welcome Mrs. Ravi\n",
      "you are not allowed Er. Rajesh\n",
      "Welcome Mr.Ramesh\n"
     ]
    }
   ],
   "source": [
    "names = ['Mr. Ram', 'Mrs. Raju', 'Mrs. Ravi', 'Er. Rajesh','Mr.Ramesh' ]\n",
    "for name in names:\n",
    "    if name.startswith('Mr.') or name.startswith('Mrs.'):\n",
    "        print(f'Welcome {name}')\n",
    "    else:\n",
    "        print(f'you are not allowed {name}')\n",
    "    "
   ]
  },
  {
   "cell_type": "code",
   "execution_count": 39,
   "metadata": {},
   "outputs": [
    {
     "name": "stdout",
     "output_type": "stream",
     "text": [
      "abc.txt    text file\n",
      "xyz.doc    unknown file type\n",
      "pqr.py     python file\n",
      "t1.py      python file\n",
      "def.txt    text file\n"
     ]
    }
   ],
   "source": [
    "files = ['abc.txt','xyz.doc','pqr.py','t1.py','def.txt']\n",
    "for item in files: \n",
    "    if item.endswith('.txt'):\n",
    "        print (f'{item:10} text file')\n",
    "    elif item.endswith('.py'):\n",
    "        print(f'{item:10} python file')\n",
    "    else:\n",
    "        print(f'{item:10} unknown file type')\n"
   ]
  },
  {
   "cell_type": "code",
   "execution_count": 40,
   "metadata": {},
   "outputs": [
    {
     "name": "stdout",
     "output_type": "stream",
     "text": [
      " JOURNEY BEFORE DESTINATION\n",
      " journey before destination\n",
      " Journey Before Destination\n",
      " journey before destination\n",
      " jOURNEY bEFORE dESTINATION\n",
      " journey before destination\n"
     ]
    }
   ],
   "source": [
    "name = ' Journey Before Destination'\n",
    "print(name.upper())\n",
    "print(name.lower())\n",
    "print(name.title())\n",
    "print(name.capitalize())\n",
    "print(name.swapcase())\n",
    "print(name.casefold())\n"
   ]
  },
  {
   "cell_type": "code",
   "execution_count": 41,
   "metadata": {},
   "outputs": [
    {
     "name": "stdout",
     "output_type": "stream",
     "text": [
      " journey before destination\n"
     ]
    }
   ],
   "source": [
    "name = name.lower()\n",
    "print(name)"
   ]
  },
  {
   "cell_type": "code",
   "execution_count": 42,
   "metadata": {},
   "outputs": [
    {
     "name": "stdout",
     "output_type": "stream",
     "text": [
      "4\n",
      "4\n"
     ]
    }
   ],
   "source": [
    "s = 'this is an example string, this is a simple string'\n",
    "print(s.count('is'))\n",
    "print(s.count('t'))"
   ]
  },
  {
   "cell_type": "code",
   "execution_count": 43,
   "metadata": {},
   "outputs": [
    {
     "name": "stdout",
     "output_type": "stream",
     "text": [
      "13\n"
     ]
    }
   ],
   "source": [
    "# total vowels\n",
    "tv = s.count('a') + s.count('e') + s.count('i') + s.count('o') + s.count('u')\n",
    "print (tv)"
   ]
  },
  {
   "cell_type": "code",
   "execution_count": 46,
   "metadata": {},
   "outputs": [
    {
     "name": "stdout",
     "output_type": "stream",
     "text": [
      "11\n",
      "2\n",
      "5\n",
      "29\n"
     ]
    }
   ],
   "source": [
    "print(s.find('example'))\n",
    "print(s.find('is')) \n",
    "print(s.find('is', 4))\n",
    "print(s.find('is', 8))\n"
   ]
  },
  {
   "cell_type": "code",
   "execution_count": 47,
   "metadata": {},
   "outputs": [
    {
     "data": {
      "text/plain": [
       "'thwas was an example string, thwas was a simple string'"
      ]
     },
     "execution_count": 47,
     "metadata": {},
     "output_type": "execute_result"
    }
   ],
   "source": [
    "s.replace ('is', 'was') # replace all occurances"
   ]
  },
  {
   "cell_type": "code",
   "execution_count": 48,
   "metadata": {},
   "outputs": [
    {
     "data": {
      "text/plain": [
       "'this is an example , this is a simple '"
      ]
     },
     "execution_count": 48,
     "metadata": {},
     "output_type": "execute_result"
    }
   ],
   "source": [
    "s.replace('string','') # remove string from s"
   ]
  },
  {
   "cell_type": "code",
   "execution_count": 49,
   "metadata": {},
   "outputs": [
    {
     "name": "stdout",
     "output_type": "stream",
     "text": [
      "['this', 'is', 'an', 'example', 'string,', 'this', 'is', 'a', 'simple', 'string']\n"
     ]
    }
   ],
   "source": [
    "words = s.split()\n",
    "print(words)"
   ]
  },
  {
   "cell_type": "code",
   "execution_count": 50,
   "metadata": {},
   "outputs": [
    {
     "data": {
      "text/plain": [
       "['this is an example string', ' this is a simple string']"
      ]
     },
     "execution_count": 50,
     "metadata": {},
     "output_type": "execute_result"
    }
   ],
   "source": [
    "s.split(',')"
   ]
  },
  {
   "cell_type": "code",
   "execution_count": 1,
   "metadata": {},
   "outputs": [
    {
     "data": {
      "text/plain": [
       "'One Two Three Four Five'"
      ]
     },
     "execution_count": 1,
     "metadata": {},
     "output_type": "execute_result"
    }
   ],
   "source": [
    "words = ['One', 'Two', 'Three', 'Four', 'Five']\n",
    "\" \".join(words)"
   ]
  },
  {
   "cell_type": "code",
   "execution_count": 2,
   "metadata": {},
   "outputs": [
    {
     "name": "stdout",
     "output_type": "stream",
     "text": [
      "priya \n",
      "\n",
      "priya\n"
     ]
    }
   ],
   "source": [
    "x = 'priya \\n'\n",
    "print(x)\n",
    "print(x.strip())"
   ]
  }
 ],
 "metadata": {
  "kernelspec": {
   "display_name": "Python 3",
   "language": "python",
   "name": "python3"
  },
  "language_info": {
   "codemirror_mode": {
    "name": "ipython",
    "version": 3
   },
   "file_extension": ".py",
   "mimetype": "text/x-python",
   "name": "python",
   "nbconvert_exporter": "python",
   "pygments_lexer": "ipython3",
   "version": "3.11.4"
  },
  "orig_nbformat": 4
 },
 "nbformat": 4,
 "nbformat_minor": 2
}
