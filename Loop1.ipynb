{
 "cells": [
  {
   "cell_type": "code",
   "execution_count": 3,
   "metadata": {},
   "outputs": [
    {
     "name": "stdout",
     "output_type": "stream",
     "text": [
      "apple\n",
      "bananA\n",
      "cherry\n",
      "orange\n",
      "kiwi\n",
      "mango\n"
     ]
    }
   ],
   "source": [
    "fruits =  ['apple','bananA', 'cherry', 'orange', 'kiwi','mango']\n",
    "for fruit in fruits: \n",
    "    print(fruit)\n",
    "    "
   ]
  },
  {
   "cell_type": "code",
   "execution_count": 14,
   "metadata": {},
   "outputs": [
    {
     "name": "stdout",
     "output_type": "stream",
     "text": [
      "0 apple\n",
      "1 bananA\n",
      "2 cherry\n",
      "3 orange\n",
      "4 kiwi\n",
      "5 mango\n"
     ]
    }
   ],
   "source": [
    "# without using enumerate\n",
    "count = 0 \n",
    "for fruit in fruits:\n",
    "    print(count, fruit)\n",
    "    count += 1"
   ]
  },
  {
   "cell_type": "code",
   "execution_count": 16,
   "metadata": {},
   "outputs": [
    {
     "name": "stdout",
     "output_type": "stream",
     "text": [
      "0 =>  apple\n",
      "1 =>  bananA\n",
      "2 =>  cherry\n",
      "3 =>  orange\n",
      "4 =>  kiwi\n",
      "5 =>  mango\n"
     ]
    }
   ],
   "source": [
    "# enumerate \n",
    "for idx, val in enumerate(fruits):\n",
    "    print(f'{idx} =>  {val}')"
   ]
  },
  {
   "cell_type": "code",
   "execution_count": 17,
   "metadata": {},
   "outputs": [
    {
     "name": "stdout",
     "output_type": "stream",
     "text": [
      "0 => apple\n",
      "1 => bananA\n",
      "2 => cherry\n",
      "3 => orange\n",
      "4 => kiwi\n",
      "5 => mango\n"
     ]
    }
   ],
   "source": [
    "# enumerate \n",
    "for idx, val in enumerate(fruits):\n",
    "    print(f'{idx} => {val}')"
   ]
  },
  {
   "cell_type": "code",
   "execution_count": 18,
   "metadata": {},
   "outputs": [
    {
     "name": "stdout",
     "output_type": "stream",
     "text": [
      "bananA\n",
      "orange\n",
      "mango\n"
     ]
    }
   ],
   "source": [
    "# index based selection \n",
    "for idx, val in enumerate(fruits,1):\n",
    "    if idx % 2 ==0:\n",
    "        print(val)"
   ]
  },
  {
   "cell_type": "code",
   "execution_count": 19,
   "metadata": {},
   "outputs": [
    {
     "name": "stdout",
     "output_type": "stream",
     "text": [
      "apple\n",
      "bananA\n",
      "cherry\n"
     ]
    }
   ],
   "source": [
    "# index based control\n",
    "for idx,val in enumerate(fruits):\n",
    "    if idx == 3:\n",
    "        break \n",
    "    print(val)"
   ]
  },
  {
   "cell_type": "code",
   "execution_count": 8,
   "metadata": {},
   "outputs": [
    {
     "name": "stdout",
     "output_type": "stream",
     "text": [
      "1 5 9\n",
      "2 6 10\n",
      "3 7 11\n",
      "4 8 12\n"
     ]
    }
   ],
   "source": [
    "#  zip function\n",
    "x = [1,2,3,4]\n",
    "y = [5,6,7,8]\n",
    "z = [9,10,11,12]\n",
    "for i,j,k in zip(x,y,z):\n",
    "    print(i,j,k)"
   ]
  },
  {
   "cell_type": "code",
   "execution_count": 28,
   "metadata": {},
   "outputs": [
    {
     "ename": "TypeError",
     "evalue": "'int' object is not iterable",
     "output_type": "error",
     "traceback": [
      "\u001b[1;31m---------------------------------------------------------------------------\u001b[0m",
      "\u001b[1;31mTypeError\u001b[0m                                 Traceback (most recent call last)",
      "Cell \u001b[1;32mIn[28], line 2\u001b[0m\n\u001b[0;32m      1\u001b[0m \u001b[39m# zip for element wise oprtaion\u001b[39;00m\n\u001b[1;32m----> 2\u001b[0m \u001b[39mfor\u001b[39;00m i , j , k \u001b[39min\u001b[39;00m \u001b[39mzip\u001b[39;49m(x,y,z):\n\u001b[0;32m      3\u001b[0m     \u001b[39mprint\u001b[39m(i \u001b[39m+\u001b[39m j \u001b[39m+\u001b[39m k, end\u001b[39m=\u001b[39m\u001b[39m'\u001b[39m\u001b[39m \u001b[39m\u001b[39m'\u001b[39m)\n",
      "\u001b[1;31mTypeError\u001b[0m: 'int' object is not iterable"
     ]
    }
   ],
   "source": [
    "# zip for element wise oprtaion\n",
    "for i , j , k in zip(x,y,z):\n",
    "    print(i + j + k, end=' ')"
   ]
  },
  {
   "cell_type": "code",
   "execution_count": 9,
   "metadata": {},
   "outputs": [
    {
     "name": "stdout",
     "output_type": "stream",
     "text": [
      "1\n",
      "2\n",
      "3\n",
      "4\n",
      "loop completed\n"
     ]
    }
   ],
   "source": [
    "for i in x:\n",
    "    print(i)\n",
    "else:\n",
    " print('loop completed')"
   ]
  },
  {
   "cell_type": "code",
   "execution_count": 10,
   "metadata": {},
   "outputs": [
    {
     "name": "stdout",
     "output_type": "stream",
     "text": [
      "1\n",
      "2\n"
     ]
    }
   ],
   "source": [
    "for i in x:\n",
    "    if i == 3:\n",
    "        break\n",
    "    print(i)\n",
    "else:\n",
    "    print('loop completed')\n",
    "    "
   ]
  },
  {
   "cell_type": "code",
   "execution_count": 32,
   "metadata": {},
   "outputs": [
    {
     "name": "stdout",
     "output_type": "stream",
     "text": [
      "prime\n"
     ]
    }
   ],
   "source": [
    "x= 19 \n",
    "for i in range(2,x):\n",
    "    if x % i == 0:\n",
    "        print('not prime')\n",
    "        break\n",
    "else:\n",
    "        print('prime')"
   ]
  },
  {
   "cell_type": "code",
   "execution_count": 33,
   "metadata": {},
   "outputs": [
    {
     "name": "stdout",
     "output_type": "stream",
     "text": [
      "you entered 3\n",
      "you entered 4\n",
      "you entered 5\n",
      "you entered 1\n",
      "you entered 9\n"
     ]
    },
    {
     "ename": "ValueError",
     "evalue": "invalid literal for int() with base 10: ''",
     "output_type": "error",
     "traceback": [
      "\u001b[1;31m---------------------------------------------------------------------------\u001b[0m",
      "\u001b[1;31mValueError\u001b[0m                                Traceback (most recent call last)",
      "Cell \u001b[1;32mIn[33], line 4\u001b[0m\n\u001b[0;32m      2\u001b[0m x \u001b[39m=\u001b[39m \u001b[39m0\u001b[39m \n\u001b[0;32m      3\u001b[0m \u001b[39mwhile\u001b[39;00m x \u001b[39m<\u001b[39m \u001b[39m10\u001b[39m:\n\u001b[1;32m----> 4\u001b[0m     x \u001b[39m=\u001b[39m \u001b[39mint\u001b[39;49m(\u001b[39minput\u001b[39;49m(\u001b[39m'\u001b[39;49m\u001b[39menter a value for x:\u001b[39;49m\u001b[39m'\u001b[39;49m))\n\u001b[0;32m      5\u001b[0m     \u001b[39mprint\u001b[39m(\u001b[39mf\u001b[39m\u001b[39m'\u001b[39m\u001b[39myou entered \u001b[39m\u001b[39m{\u001b[39;00mx\u001b[39m}\u001b[39;00m\u001b[39m'\u001b[39m)\n",
      "\u001b[1;31mValueError\u001b[0m: invalid literal for int() with base 10: ''"
     ]
    }
   ],
   "source": [
    "# while loop \n",
    "x = 0 \n",
    "while x < 10:\n",
    "    x = int(input('enter a value for x:'))\n",
    "    print(f'you entered {x}')"
   ]
  },
  {
   "cell_type": "code",
   "execution_count": null,
   "metadata": {},
   "outputs": [],
   "source": []
  },
  {
   "cell_type": "code",
   "execution_count": 38,
   "metadata": {},
   "outputs": [
    {
     "name": "stdout",
     "output_type": "stream",
     "text": [
      "123+456=579\n"
     ]
    },
    {
     "ename": "ValueError",
     "evalue": "invalid literal for int() with base 10: ''",
     "output_type": "error",
     "traceback": [
      "\u001b[1;31m---------------------------------------------------------------------------\u001b[0m",
      "\u001b[1;31mValueError\u001b[0m                                Traceback (most recent call last)",
      "Cell \u001b[1;32mIn[38], line 2\u001b[0m\n\u001b[0;32m      1\u001b[0m \u001b[39mwhile\u001b[39;00m \u001b[39mTrue\u001b[39;00m:\n\u001b[1;32m----> 2\u001b[0m     a \u001b[39m=\u001b[39m \u001b[39mint\u001b[39;49m(\u001b[39minput\u001b[39;49m(\u001b[39m'\u001b[39;49m\u001b[39menter a value for a:\u001b[39;49m\u001b[39m'\u001b[39;49m))\n\u001b[0;32m      3\u001b[0m     b \u001b[39m=\u001b[39m \u001b[39mint\u001b[39m(\u001b[39minput\u001b[39m(\u001b[39m'\u001b[39m\u001b[39menter a value for b:\u001b[39m\u001b[39m'\u001b[39m)) \n\u001b[0;32m      4\u001b[0m     total \u001b[39m=\u001b[39m a \u001b[39m+\u001b[39m b \n",
      "\u001b[1;31mValueError\u001b[0m: invalid literal for int() with base 10: ''"
     ]
    }
   ],
   "source": [
    "while True:\n",
    "    a = int(input('enter a value for a:'))\n",
    "    b = int(input('enter a value for b:')) \n",
    "    total = a + b \n",
    "    print(f'{a}+{b}={total}')\n",
    "    if input('do you want to continue? y/n') == 'n':\n",
    "        break \n"
   ]
  },
  {
   "cell_type": "code",
   "execution_count": 39,
   "metadata": {},
   "outputs": [
    {
     "name": "stdout",
     "output_type": "stream",
     "text": [
      " once upon a time,there was a cat\n",
      "\n"
     ]
    }
   ],
   "source": [
    "story = ' '\n",
    "while True:\n",
    "    line = input('enter a line:')\n",
    "    if line:\n",
    "        story += line +  '\\n'\n",
    "    else: \n",
    "        break\n",
    "    print(story)"
   ]
  }
 ],
 "metadata": {
  "kernelspec": {
   "display_name": "Python 3",
   "language": "python",
   "name": "python3"
  },
  "language_info": {
   "codemirror_mode": {
    "name": "ipython",
    "version": 3
   },
   "file_extension": ".py",
   "mimetype": "text/x-python",
   "name": "python",
   "nbconvert_exporter": "python",
   "pygments_lexer": "ipython3",
   "version": "3.11.4"
  },
  "orig_nbformat": 4
 },
 "nbformat": 4,
 "nbformat_minor": 2
}
